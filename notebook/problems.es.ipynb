{
 "cells": [
  {
   "attachments": {},
   "cell_type": "markdown",
   "id": "27b09e13",
   "metadata": {},
   "source": [
    "# Problemas de optimización de algoritmos"
   ]
  },
  {
   "attachments": {},
   "cell_type": "markdown",
   "id": "ed05e9bf",
   "metadata": {},
   "source": [
    "## Ejercicio 1\n",
    "### Optimización de código para procesamiento de texto\n",
    "\n",
    "Se te ha entregado un código de procesamiento de texto que realiza las siguientes operaciones:\n",
    "\n",
    "1. Convierte todo el texto a minúsculas.\n",
    "2. Elimina los signos de puntuación.\n",
    "3. Cuenta la frecuencia de cada palabra.\n",
    "4. Muestra las 5 palabras mas comunes.\n",
    "\n",
    "El código funciona, pero es ineficiente y puede optimizarse. Tu tarea es identificar las áreas que pueden ser mejoradas y reescribir esas partes para hacer el código mas eficiente y legible.\n"
   ]
  },
  {
   "cell_type": "code",
   "execution_count": 1,
   "id": "8467465b",
   "metadata": {},
   "outputs": [
    {
     "name": "stdout",
     "output_type": "stream",
     "text": [
      "'the': 5 times\n",
      "'of': 3 times\n",
      "'in': 2 times\n",
      "'a': 2 times\n",
      "'she': 2 times\n",
      "'the': 5 times\n",
      "'of': 3 times\n",
      "'in': 2 times\n",
      "'a': 2 times\n",
      "'she': 2 times\n",
      " \n",
      "EL CÓDIGO ANTERIOR TOMÓ: 0.0003 SEGUNDOS EN EJECUTARSE\n"
     ]
    }
   ],
   "source": [
    "import string\n",
    "import time # Medimos el tiempo de ejecución del código\n",
    "\n",
    "\n",
    "def process_text(text):\n",
    "    # Texto a minuscula\n",
    "    text = text.lower()\n",
    "\n",
    "    # Eliminación de puntuaciones\n",
    "    for p in string.punctuation:\n",
    "        text = text.replace(p, \"\")\n",
    "\n",
    "    # Split text into words\n",
    "    words = text.split()\n",
    "\n",
    "    # Conteo de frecuencias\n",
    "    frequencies = {}\n",
    "    for w in words:\n",
    "        if w in frequencies:\n",
    "            frequencies[w] += 1\n",
    "        else:\n",
    "            frequencies[w] = 1\n",
    "\n",
    "    sorted_frequencies = sorted(frequencies.items(), key = lambda x: x[1], reverse = True)\n",
    "\n",
    "    # Obtener las 5 palabras más comunes\n",
    "    top_5 = sorted_frequencies[:5]\n",
    "    \n",
    "    for w, frequency in top_5:\n",
    "        print(f\"'{w}': {frequency} times\")\n",
    "\n",
    "text = \"\"\"\n",
    "    In the heart of the city, Emily discovered a quaint little café, hidden away from the bustling streets. \n",
    "    The aroma of freshly baked pastries wafted through the air, drawing in passersby. As she sipped on her latte, \n",
    "    she noticed an old bookshelf filled with classics, creating a cozy atmosphere that made her lose track of time.\n",
    "\"\"\"\n",
    "process_text(text)\n",
    "\n",
    "tiempo_inicial = time.time()\n",
    "process_text(text)\n",
    "tiempo_final = time.time()\n",
    "\n",
    "tiempo_total = tiempo_final - tiempo_inicial\n",
    "print(' ')\n",
    "print(f'EL CÓDIGO ANTERIOR TOMÓ: {tiempo_total:.4f} SEGUNDOS EN EJECUTARSE')\n"
   ]
  },
  {
   "cell_type": "markdown",
   "id": "29040779",
   "metadata": {},
   "source": [
    "Puntos a optimizar:\n",
    "\n",
    "1. **Eliminar los signos de puntuación**: Usar `replace`  en un ciclo puede ser ineficiente, especialmente con textos largos. Busca una formas eficiente de eliminar los signos de puntuación.\n",
    "2. **Contador de frecuencia**: El código verifica la existencia de cada palabra en el diccionario y luego actualiza su cuenta. Esto puede hacerse mas eficientemente con ciertas estructuras de datos en Python.\n",
    "3. **Ordenar y seleccionar:** Considera si hay una forma mas directa o efectiva de obtener las 5 palabras mas frecuentes sin ordenar todas las palabras.\n",
    "4. **Modularidad**: Divide el código en funciones mas pequeñas para que cada una puede realizar una tarea específica. Esto no solo optimizará el desempeño, sino también hará el código mas legible y mantenible."
   ]
  },
  {
   "cell_type": "code",
   "execution_count": 2,
   "id": "57cd6641",
   "metadata": {},
   "outputs": [
    {
     "name": "stdout",
     "output_type": "stream",
     "text": [
      "'the': 5 times\n",
      "'of': 3 times\n",
      "'in': 2 times\n",
      "'a': 2 times\n",
      "'she': 2 times\n",
      " \n",
      "EL CÓDIGO ANTERIOR TOMÓ: 0.0086 SEGUNDOS EN EJECUTARSE\n"
     ]
    }
   ],
   "source": [
    "# TODO\n",
    "import re\n",
    "import time\n",
    "from collections import Counter\n",
    "import heapq\n",
    "\n",
    "def preprocess_text(text):\n",
    "    \"\"\"\n",
    "    Convierte el texto a minúsculas y elimina los signos de puntuación de forma optimizada usando regex.\n",
    "    \"\"\"\n",
    "    # Convertimos a minúsculas y eliminamos puntuaciones con regex\n",
    "    return re.sub(r'[^\\w\\s]', '', text.lower())\n",
    "\n",
    "def get_word_frequencies(words):\n",
    "    \"\"\"\n",
    "    Genera un contador de frecuencias de palabras de forma eficiente.\n",
    "    \"\"\"\n",
    "    # Utilizamos Counter directamente para contar las palabras de forma óptima\n",
    "    return Counter(words)\n",
    "\n",
    "def get_top_n_words(frequencies, n=5):\n",
    "    \"\"\"\n",
    "    Obtiene las n palabras más frecuentes sin necesidad de ordenar completamente.\n",
    "    \"\"\"\n",
    "    # Utilizamos heapq para obtener las palabras más frecuentes sin ordenar toda la lista\n",
    "    return heapq.nlargest(n, frequencies.items(), key=lambda x: x[1])\n",
    "\n",
    "def process_text(text):\n",
    "    \"\"\"\n",
    "    Procesa el texto completo: lo limpia, cuenta frecuencias, y muestra las palabras más comunes.\n",
    "    \"\"\"\n",
    "    # Preprocesamos el texto para quitar puntuaciones y convertirlo en minúsculas\n",
    "    clean_text = preprocess_text(text)\n",
    "    \n",
    "    # Obtenemos las palabras\n",
    "    words = clean_text.split()\n",
    "    \n",
    "    # Contamos las frecuencias de las palabras\n",
    "    frequencies = get_word_frequencies(words)\n",
    "    \n",
    "    # Seleccionamos las 5 palabras más frecuentes\n",
    "    top_words = get_top_n_words(frequencies)\n",
    "    \n",
    "    # Mostramos el resultado\n",
    "    for word, frequency in top_words:\n",
    "        print(f\"'{word}': {frequency} times\")\n",
    "\n",
    "# Texto de prueba\n",
    "text = \"\"\"\n",
    "    In the heart of the city, Emily discovered a quaint little café, hidden away from the bustling streets. \n",
    "    The aroma of freshly baked pastries wafted through the air, drawing in passersby. As she sipped on her latte, \n",
    "    she noticed an old bookshelf filled with classics, creating a cozy atmosphere that made her lose track of time.\n",
    "\"\"\"\n",
    "\n",
    "# Medición del tiempo de ejecución\n",
    "tiempo_inicial = time.time()\n",
    "process_text(text)\n",
    "preprocess_text(text)\n",
    "get_word_frequencies(text)\n",
    "tiempo_final = time.time()\n",
    "\n",
    "tiempo_total = tiempo_final - tiempo_inicial\n",
    "print(' ')\n",
    "print(f'EL CÓDIGO ANTERIOR TOMÓ: {tiempo_total:.4f} SEGUNDOS EN EJECUTARSE')"
   ]
  },
  {
   "attachments": {},
   "cell_type": "markdown",
   "id": "011996bc",
   "metadata": {},
   "source": [
    "## Ejercicio 2\n",
    "### Optimización de código para procesamiento de listas\n",
    "\n",
    "Se te ha dado el siguiente código que realiza operaciones en una lista de números para:\n",
    "\n",
    "1. Filtrar los números pares.\n",
    "2. Duplicar cada número.\n",
    "3. Sumar todos los números.\n",
    "4. Verificar si el resultado es un número primo.\n",
    "\n",
    "El código entregado logra los objetivos, pero puede ser ineficiente. Tu tarea es identificar y mejorar las partes de ese código para mejorar su eficiencia."
   ]
  },
  {
   "cell_type": "code",
   "execution_count": 3,
   "id": "783d03a0",
   "metadata": {},
   "outputs": [
    {
     "name": "stdout",
     "output_type": "stream",
     "text": [
      "Result: 60, ¿Prime? No\n",
      " \n",
      "EL CÓDIGO ANTERIOR TOMÓ: 0.0000 EN EJECUTARSE\n"
     ]
    }
   ],
   "source": [
    "import math\n",
    "\n",
    "def is_prime(n):\n",
    "    if n <= 1:\n",
    "        return False\n",
    "    for i in range(2, int(math.sqrt(n)) + 1):\n",
    "        if n % i == 0:\n",
    "            return False\n",
    "    return True\n",
    "\n",
    "def process_list(list_):\n",
    "    filtered_list = []\n",
    "    for num in list_:\n",
    "        if num % 2 == 0:\n",
    "            filtered_list.append(num)\n",
    "    \n",
    "    duplicate_list = []\n",
    "    for num in filtered_list:\n",
    "        duplicate_list.append(num * 2)\n",
    "        \n",
    "    sum = 0\n",
    "    for num in duplicate_list:\n",
    "        sum += num\n",
    "\n",
    "    prime = is_prime(sum)\n",
    "    \n",
    "    return sum, prime\n",
    "\n",
    "list_ = [1, 2, 3, 4, 5, 6, 7, 8, 9, 10]\n",
    "result, result_prime = process_list(list_)\n",
    "print(f\"Result: {result}, ¿Prime? {'Yes' if result_prime else 'No'}\")\n",
    "tiempo_inicial = time.time()\n",
    "process_list(list_)\n",
    "tiempo_final = time.time()\n",
    "tiempo_total = tiempo_final - tiempo_inicial\n",
    "print(' ')\n",
    "print(f'EL CÓDIGO ANTERIOR TOMÓ: {tiempo_total:.4f} EN EJECUTARSE')"
   ]
  },
  {
   "cell_type": "markdown",
   "id": "128d564e",
   "metadata": {},
   "source": [
    "Puntos a optimizar:\n",
    "\n",
    "1. **Filtrar las números**: El código recorre la lista original para filtrar los números pares. Considera una forma mas eficiente de filtrar la lista.\n",
    "2. **Duplicación**: La lista es atravesada varias veces. ¿Hay alguna manera de hacer esto mas eficientemente?\n",
    "3. **Suma**: Los números en la lista se suman a traves de un bucle. Python trae incluidas unas funciones que pueden optimizar esto.\n",
    "4. **Función `is_prime`**: Aunque ésta función es relativamente eficiente, investiga si hay maneras de hacerla aun más rápida.\n",
    "5. **Modularidad**: Considera dividir el código en funciones más pequeñas, cada una enfocada en una tarea específica."
   ]
  },
  {
   "cell_type": "code",
   "execution_count": 5,
   "id": "f40e35d6",
   "metadata": {},
   "outputs": [
    {
     "name": "stdout",
     "output_type": "stream",
     "text": [
      "EL RESULTADO ES: 60, ¿ES NÚMERO PRIMO? No\n",
      "EL CODIGO ANTERIOR TOMÓ: 0.0000 SEGUNDOS EN EJECUTARSE\n"
     ]
    }
   ],
   "source": [
    "# TODO\n",
    "import math\n",
    "\n",
    "def is_prime(n):\n",
    "    \"\"\"Verifica si un número es primo de forma optimizada.\"\"\"\n",
    "    if n <= 1:\n",
    "        return False\n",
    "    if n <= 3:\n",
    "        return True\n",
    "    if n % 2 == 0 or n % 3 == 0:\n",
    "        return False\n",
    "    # Usamos un paso de 6 para minimizar divisores\n",
    "    for i in range(5, int(math.sqrt(n)) + 1, 6):\n",
    "        if n % i == 0 or n % (i + 2) == 0:\n",
    "            return False\n",
    "    return True\n",
    "\n",
    "def process_list(list_):\n",
    "    \"\"\"Filtra, duplica, suma y verifica si la suma es un número primo, todo en una sola pasada.\"\"\"\n",
    "    # Filtrar pares, duplicar y sumar en una sola línea\n",
    "    total_sum = sum(num * 2 for num in list_ if num % 2 == 0)\n",
    "    \n",
    "    # Verificamos si la suma es un número primo\n",
    "    prime = is_prime(total_sum)\n",
    "    \n",
    "    return total_sum, prime\n",
    "\n",
    "# Ejemplo de uso\n",
    "list_ = [1, 2, 3, 4, 5, 6, 7, 8, 9, 10]\n",
    "result, result_prime = process_list(list_)\n",
    "print(f\"EL RESULTADO ES: {result}, ¿ES NÚMERO PRIMO? {'Yes' if result_prime else 'No'}\")\n",
    "tiempo_inicial = time.time()\n",
    "process_list(list_)\n",
    "tiempo_final = time.time()\n",
    "tiempo_total = tiempo_final - tiempo_inicial\n",
    "print(f'EL CODIGO ANTERIOR TOMÓ: {tiempo_total:.4f} SEGUNDOS EN EJECUTARSE')"
   ]
  },
  {
   "attachments": {},
   "cell_type": "markdown",
   "id": "1af70806",
   "metadata": {},
   "source": [
    "Ambos ejercicios  ayudarán a mejorar tu habilidad de optimizar el desempeño del código y te darán un mejor entendimiento de como las diferentes estructuras de datos y técnicas de programación pueden afectar la eficiencia de tu código."
   ]
  }
 ],
 "metadata": {
  "kernelspec": {
   "display_name": "Python 3",
   "language": "python",
   "name": "python3"
  },
  "language_info": {
   "codemirror_mode": {
    "name": "ipython",
    "version": 3
   },
   "file_extension": ".py",
   "mimetype": "text/x-python",
   "name": "python",
   "nbconvert_exporter": "python",
   "pygments_lexer": "ipython3",
   "version": "3.11.4"
  }
 },
 "nbformat": 4,
 "nbformat_minor": 5
}
